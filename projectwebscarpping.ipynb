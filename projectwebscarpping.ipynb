{
 "cells": [
  {
   "cell_type": "code",
   "execution_count": 5,
   "id": "b407058a",
   "metadata": {},
   "outputs": [
    {
     "name": "stdout",
     "output_type": "stream",
     "text": [
      "Requirement already satisfied: requests in c:\\users\\015948036\\appdata\\local\\packages\\pythonsoftwarefoundation.python.3.11_qbz5n2kfra8p0\\localcache\\local-packages\\python311\\site-packages (2.32.3)\n",
      "Requirement already satisfied: beautifulsoup4 in c:\\users\\015948036\\appdata\\local\\packages\\pythonsoftwarefoundation.python.3.11_qbz5n2kfra8p0\\localcache\\local-packages\\python311\\site-packages (4.13.3)\n",
      "Requirement already satisfied: pandas in c:\\users\\015948036\\appdata\\local\\packages\\pythonsoftwarefoundation.python.3.11_qbz5n2kfra8p0\\localcache\\local-packages\\python311\\site-packages (2.2.3)\n",
      "Requirement already satisfied: charset-normalizer<4,>=2 in c:\\users\\015948036\\appdata\\local\\packages\\pythonsoftwarefoundation.python.3.11_qbz5n2kfra8p0\\localcache\\local-packages\\python311\\site-packages (from requests) (3.4.1)\n",
      "Requirement already satisfied: idna<4,>=2.5 in c:\\users\\015948036\\appdata\\local\\packages\\pythonsoftwarefoundation.python.3.11_qbz5n2kfra8p0\\localcache\\local-packages\\python311\\site-packages (from requests) (3.10)\n",
      "Requirement already satisfied: urllib3<3,>=1.21.1 in c:\\users\\015948036\\appdata\\local\\packages\\pythonsoftwarefoundation.python.3.11_qbz5n2kfra8p0\\localcache\\local-packages\\python311\\site-packages (from requests) (2.3.0)\n",
      "Requirement already satisfied: certifi>=2017.4.17 in c:\\users\\015948036\\appdata\\local\\packages\\pythonsoftwarefoundation.python.3.11_qbz5n2kfra8p0\\localcache\\local-packages\\python311\\site-packages (from requests) (2025.1.31)\n",
      "Requirement already satisfied: soupsieve>1.2 in c:\\users\\015948036\\appdata\\local\\packages\\pythonsoftwarefoundation.python.3.11_qbz5n2kfra8p0\\localcache\\local-packages\\python311\\site-packages (from beautifulsoup4) (2.6)\n",
      "Requirement already satisfied: typing-extensions>=4.0.0 in c:\\users\\015948036\\appdata\\local\\packages\\pythonsoftwarefoundation.python.3.11_qbz5n2kfra8p0\\localcache\\local-packages\\python311\\site-packages (from beautifulsoup4) (4.12.2)\n",
      "Requirement already satisfied: numpy>=1.23.2 in c:\\users\\015948036\\appdata\\local\\packages\\pythonsoftwarefoundation.python.3.11_qbz5n2kfra8p0\\localcache\\local-packages\\python311\\site-packages (from pandas) (2.2.3)\n",
      "Requirement already satisfied: python-dateutil>=2.8.2 in c:\\users\\015948036\\appdata\\local\\packages\\pythonsoftwarefoundation.python.3.11_qbz5n2kfra8p0\\localcache\\local-packages\\python311\\site-packages (from pandas) (2.9.0.post0)\n",
      "Requirement already satisfied: pytz>=2020.1 in c:\\users\\015948036\\appdata\\local\\packages\\pythonsoftwarefoundation.python.3.11_qbz5n2kfra8p0\\localcache\\local-packages\\python311\\site-packages (from pandas) (2025.1)\n",
      "Requirement already satisfied: tzdata>=2022.7 in c:\\users\\015948036\\appdata\\local\\packages\\pythonsoftwarefoundation.python.3.11_qbz5n2kfra8p0\\localcache\\local-packages\\python311\\site-packages (from pandas) (2025.1)\n",
      "Requirement already satisfied: six>=1.5 in c:\\users\\015948036\\appdata\\local\\packages\\pythonsoftwarefoundation.python.3.11_qbz5n2kfra8p0\\localcache\\local-packages\\python311\\site-packages (from python-dateutil>=2.8.2->pandas) (1.17.0)\n",
      "Note: you may need to restart the kernel to use updated packages.\n"
     ]
    },
    {
     "name": "stderr",
     "output_type": "stream",
     "text": [
      "\n",
      "[notice] A new release of pip is available: 24.0 -> 25.0.1\n",
      "[notice] To update, run: C:\\Users\\015948036\\AppData\\Local\\Microsoft\\WindowsApps\\PythonSoftwareFoundation.Python.3.11_qbz5n2kfra8p0\\python.exe -m pip install --upgrade pip\n"
     ]
    }
   ],
   "source": [
    "pip install requests beautifulsoup4 pandas\n"
   ]
  },
  {
   "cell_type": "code",
   "execution_count": 21,
   "id": "9998ea99",
   "metadata": {},
   "outputs": [],
   "source": [
    "import requests\n",
    "from bs4 import BeautifulSoup\n",
    "import pandas as pd\n",
    "import csv\n"
   ]
  },
  {
   "cell_type": "code",
   "execution_count": 22,
   "id": "5f5da7c9",
   "metadata": {},
   "outputs": [],
   "source": [
    "import time\n",
    "# Step 1: Scrape the main site to get subcategory links dynamically\n",
    "main_url = \"https://www.calories.info/\"\n",
    "response = requests.get(main_url)\n",
    "soup = BeautifulSoup(response.content, \"html.parser\")\n",
    "\n",
    "# Step 2: Extract all <a> tags that link to subcategory pages under \"/food/\"\n",
    "subcategory_links = []\n",
    "for a_tag in soup.find_all(\"a\", href=True):\n",
    "    href = a_tag[\"href\"]\n",
    "    if href.startswith(\"/food/\") and href.count(\"/\") == 2:  # to avoid deeper links\n",
    "        subcategory_links.append({\n",
    "            \"Subcategory\": a_tag.get_text(strip=True),\n",
    "            \"URL\": \"https://www.calories.info\" + href\n",
    "        })\n",
    "\n",
    "# Convert to DataFrame for easier handling\n",
    "df_subcategories = pd.DataFrame(subcategory_links).drop_duplicates(subset=[\"URL\"])\n",
    "\n",
    "# Step 3: Visit each subcategory URL and scrape the table\n",
    "scraped_data = []\n",
    "\n",
    "for idx, row in df_subcategories.iterrows():\n",
    "    subcategory_name = row[\"Subcategory\"]\n",
    "    subcategory_url = row[\"URL\"]\n",
    "\n",
    "    try:\n",
    "        resp = requests.get(subcategory_url)\n",
    "        soup = BeautifulSoup(resp.content, \"html.parser\")\n",
    "        table = soup.find(\"table\")\n",
    "        if table:\n",
    "            rows = table.find(\"tbody\").find_all(\"tr\")\n",
    "            for r in rows:\n",
    "                cols = r.find_all(\"td\")\n",
    "                if len(cols) >= 3:\n",
    "                    food = cols[0].get_text(strip=True)\n",
    "                    serving = cols[1].get_text(strip=True)\n",
    "                    calories = cols[2].get_text(strip=True)\n",
    "                    scraped_data.append({\n",
    "                        \"Subcategory\": subcategory_name,\n",
    "                        \"Food\": food,\n",
    "                        \"Serving\": serving,\n",
    "                        \"Calories\": calories,\n",
    "                        \"URL\": subcategory_url\n",
    "                    })\n",
    "        time.sleep(0.1)\n",
    "    except Exception as e:\n",
    "        print(f\"Failed to scrape {subcategory_url}: {e}\")\n",
    "\n",
    "# Step 4: Save to DataFrame and CSV\n",
    "df_scraped = pd.DataFrame(scraped_data)\n",
    "output_final_path = \"all_calories_from_dynamic_links.csv\"\n",
    "df_scraped.to_csv(output_final_path, index=False)"
   ]
  }
 ],
 "metadata": {
  "kernelspec": {
   "display_name": "Python 3",
   "language": "python",
   "name": "python3"
  },
  "language_info": {
   "codemirror_mode": {
    "name": "ipython",
    "version": 3
   },
   "file_extension": ".py",
   "mimetype": "text/x-python",
   "name": "python",
   "nbconvert_exporter": "python",
   "pygments_lexer": "ipython3",
   "version": "3.11.9"
  }
 },
 "nbformat": 4,
 "nbformat_minor": 5
}
